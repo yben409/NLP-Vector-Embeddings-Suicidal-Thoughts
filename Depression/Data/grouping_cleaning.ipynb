{
 "cells": [
  {
   "cell_type": "code",
   "execution_count": 35,
   "metadata": {},
   "outputs": [
    {
     "name": "stderr",
     "output_type": "stream",
     "text": [
      "[nltk_data] Downloading package wordnet to /Users/yben409/nltk_data...\n",
      "[nltk_data]   Package wordnet is already up-to-date!\n",
      "[nltk_data] Downloading package stopwords to\n",
      "[nltk_data]     /Users/yben409/nltk_data...\n",
      "[nltk_data]   Package stopwords is already up-to-date!\n"
     ]
    }
   ],
   "source": [
    "import numpy as np\n",
    "import pandas as pd\n",
    "import seaborn as sns\n",
    "import matplotlib.pyplot as plt\n",
    "import nltk\n",
    "from nltk.corpus import stopwords\n",
    "from nltk.stem import WordNetLemmatizer\n",
    "\n",
    "nltk.download('wordnet')  \n",
    "nltk.download('stopwords')\n",
    "\n",
    "stop_words = set(stopwords.words('english'))"
   ]
  },
  {
   "cell_type": "code",
   "execution_count": 37,
   "metadata": {},
   "outputs": [],
   "source": [
    "lemmatizer = WordNetLemmatizer()\n",
    "\n",
    "def remove_stop_words(text):\n",
    "    clean_text = ' '.join([word for word in text.split() if word.lower() not in stop_words])\n",
    "    return clean_text\n",
    "\n",
    "def tokenize_text(text):\n",
    "    return nltk.word_tokenize(text)\n",
    "\n",
    "def lemmatize_sentence(tokens):\n",
    "    lemmatized_tokens = [lemmatizer.lemmatize(token) for token in tokens]\n",
    "    lemmatized_sentence = ' '.join(lemmatized_tokens)\n",
    "    return lemmatized_sentence"
   ]
  },
  {
   "cell_type": "code",
   "execution_count": 16,
   "metadata": {},
   "outputs": [],
   "source": [
    "data1 = pd.read_csv('d_tweets.csv', sep=',')\n",
    "data2 = pd.read_csv('non_d_tweets.csv', sep=',')\n",
    "data_main = pd.read_csv('dataset.csv', sep=';')"
   ]
  },
  {
   "cell_type": "code",
   "execution_count": 17,
   "metadata": {},
   "outputs": [],
   "source": [
    "X_d = data1['tweet'] #Depressing tweets\n",
    "X_non_d = data2['tweet'] #Non depression tweets"
   ]
  },
  {
   "cell_type": "code",
   "execution_count": 18,
   "metadata": {},
   "outputs": [],
   "source": [
    "ones_df = pd.DataFrame({'is_depression': [1] * len(X_d)})\n",
    "data_d = pd.concat([X_d, ones_df], axis=1)\n",
    "data_d.columns = ['tweets', 'is_depression']"
   ]
  },
  {
   "cell_type": "code",
   "execution_count": 20,
   "metadata": {},
   "outputs": [
    {
     "data": {
      "text/html": [
       "<div>\n",
       "<style scoped>\n",
       "    .dataframe tbody tr th:only-of-type {\n",
       "        vertical-align: middle;\n",
       "    }\n",
       "\n",
       "    .dataframe tbody tr th {\n",
       "        vertical-align: top;\n",
       "    }\n",
       "\n",
       "    .dataframe thead th {\n",
       "        text-align: right;\n",
       "    }\n",
       "</style>\n",
       "<table border=\"1\" class=\"dataframe\">\n",
       "  <thead>\n",
       "    <tr style=\"text-align: right;\">\n",
       "      <th></th>\n",
       "      <th>tweets</th>\n",
       "      <th>is_depression</th>\n",
       "    </tr>\n",
       "  </thead>\n",
       "  <tbody>\n",
       "    <tr>\n",
       "      <th>0</th>\n",
       "      <td>Touch Passes are the new ASMR</td>\n",
       "      <td>0</td>\n",
       "    </tr>\n",
       "    <tr>\n",
       "      <th>1</th>\n",
       "      <td>12 years ago, I called my dad and he gave me s...</td>\n",
       "      <td>0</td>\n",
       "    </tr>\n",
       "    <tr>\n",
       "      <th>2</th>\n",
       "      <td>There are 6,500 languages yet I choose to only...</td>\n",
       "      <td>0</td>\n",
       "    </tr>\n",
       "    <tr>\n",
       "      <th>3</th>\n",
       "      <td>Hey everyone, ask for a raise today.  I’m tell...</td>\n",
       "      <td>0</td>\n",
       "    </tr>\n",
       "    <tr>\n",
       "      <th>4</th>\n",
       "      <td>I invested in 47 startups in a year. Here's ho...</td>\n",
       "      <td>0</td>\n",
       "    </tr>\n",
       "    <tr>\n",
       "      <th>...</th>\n",
       "      <td>...</td>\n",
       "      <td>...</td>\n",
       "    </tr>\n",
       "    <tr>\n",
       "      <th>4804</th>\n",
       "      <td>Cardi B wants to trademark her catchphrase “Ok...</td>\n",
       "      <td>0</td>\n",
       "    </tr>\n",
       "    <tr>\n",
       "      <th>4805</th>\n",
       "      <td>I’ll bet Kellyanne and George Conway have pret...</td>\n",
       "      <td>0</td>\n",
       "    </tr>\n",
       "    <tr>\n",
       "      <th>4806</th>\n",
       "      <td>Fans are always asking me how they can watch t...</td>\n",
       "      <td>0</td>\n",
       "    </tr>\n",
       "    <tr>\n",
       "      <th>4807</th>\n",
       "      <td>Ray Romano is a hilarious comedian, a kind sou...</td>\n",
       "      <td>0</td>\n",
       "    </tr>\n",
       "    <tr>\n",
       "      <th>4808</th>\n",
       "      <td>Mueller's report may be finished, but mine is ...</td>\n",
       "      <td>0</td>\n",
       "    </tr>\n",
       "  </tbody>\n",
       "</table>\n",
       "<p>4809 rows × 2 columns</p>\n",
       "</div>"
      ],
      "text/plain": [
       "                                                 tweets  is_depression\n",
       "0                         Touch Passes are the new ASMR              0\n",
       "1     12 years ago, I called my dad and he gave me s...              0\n",
       "2     There are 6,500 languages yet I choose to only...              0\n",
       "3     Hey everyone, ask for a raise today.  I’m tell...              0\n",
       "4     I invested in 47 startups in a year. Here's ho...              0\n",
       "...                                                 ...            ...\n",
       "4804  Cardi B wants to trademark her catchphrase “Ok...              0\n",
       "4805  I’ll bet Kellyanne and George Conway have pret...              0\n",
       "4806  Fans are always asking me how they can watch t...              0\n",
       "4807  Ray Romano is a hilarious comedian, a kind sou...              0\n",
       "4808  Mueller's report may be finished, but mine is ...              0\n",
       "\n",
       "[4809 rows x 2 columns]"
      ]
     },
     "execution_count": 20,
     "metadata": {},
     "output_type": "execute_result"
    }
   ],
   "source": [
    "zeros_df = pd.DataFrame({'is_depression': [0] * len(X_non_d)})\n",
    "data_non_d = pd.concat([X_non_d, zeros_df], axis=1)\n",
    "data_non_d.columns = ['tweets', 'is_depression']\n",
    "data_non_d"
   ]
  },
  {
   "cell_type": "code",
   "execution_count": 30,
   "metadata": {},
   "outputs": [
    {
     "data": {
      "text/html": [
       "<div>\n",
       "<style scoped>\n",
       "    .dataframe tbody tr th:only-of-type {\n",
       "        vertical-align: middle;\n",
       "    }\n",
       "\n",
       "    .dataframe tbody tr th {\n",
       "        vertical-align: top;\n",
       "    }\n",
       "\n",
       "    .dataframe thead th {\n",
       "        text-align: right;\n",
       "    }\n",
       "</style>\n",
       "<table border=\"1\" class=\"dataframe\">\n",
       "  <thead>\n",
       "    <tr style=\"text-align: right;\">\n",
       "      <th></th>\n",
       "      <th>tweets</th>\n",
       "      <th>is_depression</th>\n",
       "    </tr>\n",
       "  </thead>\n",
       "  <tbody>\n",
       "    <tr>\n",
       "      <th>0</th>\n",
       "      <td>the real reason why you're sad? you're attache...</td>\n",
       "      <td>1</td>\n",
       "    </tr>\n",
       "    <tr>\n",
       "      <th>1</th>\n",
       "      <td>my biggest problem is overthinking everything</td>\n",
       "      <td>1</td>\n",
       "    </tr>\n",
       "    <tr>\n",
       "      <th>2</th>\n",
       "      <td>the worst sadness is the sadness you've taught...</td>\n",
       "      <td>1</td>\n",
       "    </tr>\n",
       "    <tr>\n",
       "      <th>3</th>\n",
       "      <td>i cannot make you understand. i cannot make an...</td>\n",
       "      <td>1</td>\n",
       "    </tr>\n",
       "    <tr>\n",
       "      <th>4</th>\n",
       "      <td>i don't think anyone really understands how ti...</td>\n",
       "      <td>1</td>\n",
       "    </tr>\n",
       "    <tr>\n",
       "      <th>...</th>\n",
       "      <td>...</td>\n",
       "      <td>...</td>\n",
       "    </tr>\n",
       "    <tr>\n",
       "      <th>16031</th>\n",
       "      <td>Cardi B wants to trademark her catchphrase “Ok...</td>\n",
       "      <td>0</td>\n",
       "    </tr>\n",
       "    <tr>\n",
       "      <th>16032</th>\n",
       "      <td>I’ll bet Kellyanne and George Conway have pret...</td>\n",
       "      <td>0</td>\n",
       "    </tr>\n",
       "    <tr>\n",
       "      <th>16033</th>\n",
       "      <td>Fans are always asking me how they can watch t...</td>\n",
       "      <td>0</td>\n",
       "    </tr>\n",
       "    <tr>\n",
       "      <th>16034</th>\n",
       "      <td>Ray Romano is a hilarious comedian, a kind sou...</td>\n",
       "      <td>0</td>\n",
       "    </tr>\n",
       "    <tr>\n",
       "      <th>16035</th>\n",
       "      <td>Mueller's report may be finished, but mine is ...</td>\n",
       "      <td>0</td>\n",
       "    </tr>\n",
       "  </tbody>\n",
       "</table>\n",
       "<p>16036 rows × 2 columns</p>\n",
       "</div>"
      ],
      "text/plain": [
       "                                                  tweets  is_depression\n",
       "0      the real reason why you're sad? you're attache...              1\n",
       "1          my biggest problem is overthinking everything              1\n",
       "2      the worst sadness is the sadness you've taught...              1\n",
       "3      i cannot make you understand. i cannot make an...              1\n",
       "4      i don't think anyone really understands how ti...              1\n",
       "...                                                  ...            ...\n",
       "16031  Cardi B wants to trademark her catchphrase “Ok...              0\n",
       "16032  I’ll bet Kellyanne and George Conway have pret...              0\n",
       "16033  Fans are always asking me how they can watch t...              0\n",
       "16034  Ray Romano is a hilarious comedian, a kind sou...              0\n",
       "16035  Mueller's report may be finished, but mine is ...              0\n",
       "\n",
       "[16036 rows x 2 columns]"
      ]
     },
     "execution_count": 30,
     "metadata": {},
     "output_type": "execute_result"
    }
   ],
   "source": [
    "dataset = pd.concat([data_d, data_main, data_non_d], axis=0)\n",
    "dataset = dataset.reset_index(drop=True)\n",
    "dataset"
   ]
  },
  {
   "cell_type": "code",
   "execution_count": 31,
   "metadata": {},
   "outputs": [
    {
     "data": {
      "image/png": "[encoded data removed]",
      "text/plain": [
       "<Figure size 1440x360 with 1 Axes>"
      ]
     },
     "metadata": {
      "needs_background": "light"
     },
     "output_type": "display_data"
    }
   ],
   "source": [
    "classes_num = dataset['is_depression'].value_counts()\n",
    "\n",
    "# Define a custom color palette\n",
    "custom_palette = ['gold', 'lightcoral', 'lightskyblue', 'lightgreen']\n",
    "\n",
    "plt.figure(figsize=(20, 5))\n",
    "\n",
    "plt.subplot(1, 2, 1)\n",
    "sns.countplot(data=dataset, x='is_depression', palette=custom_palette)\n",
    "\n",
    "plt.show()"
   ]
  },
  {
   "cell_type": "code",
   "execution_count": 32,
   "metadata": {},
   "outputs": [],
   "source": [
    "#Small difference in distribution of classes. Good ! "
   ]
  },
  {
   "cell_type": "code",
   "execution_count": 34,
   "metadata": {},
   "outputs": [
    {
     "data": {
      "text/plain": [
       "0        the real reason why you're sad? you're attache...\n",
       "1            my biggest problem is overthinking everything\n",
       "2        the worst sadness is the sadness you've taught...\n",
       "3        i cannot make you understand. i cannot make an...\n",
       "4        i don't think anyone really understands how ti...\n",
       "                               ...                        \n",
       "16031    cardi b wants to trademark her catchphrase “ok...\n",
       "16032    i’ll bet kellyanne and george conway have pret...\n",
       "16033    fans are always asking me how they can watch t...\n",
       "16034    ray romano is a hilarious comedian, a kind sou...\n",
       "16035    mueller's report may be finished, but mine is ...\n",
       "Name: tweets, Length: 16036, dtype: object"
      ]
     },
     "execution_count": 34,
     "metadata": {},
     "output_type": "execute_result"
    }
   ],
   "source": [
    "dataset['tweets'] = dataset['tweets'].str.lower()\n",
    "dataset['tweets']"
   ]
  },
  {
   "cell_type": "code",
   "execution_count": 38,
   "metadata": {},
   "outputs": [],
   "source": [
    "dataset['tweets'] = dataset['tweets'].str.replace(r'[^\\w\\s]+', '',regex=True)\n",
    "dataset['tweets'] = dataset['tweets'].apply(remove_stop_words)\n",
    "dataset['tweets'] = dataset['tweets'].map(tokenize_text)\n",
    "dataset['tweets'] = dataset['tweets'].map(lemmatize_sentence)"
   ]
  },
  {
   "cell_type": "code",
   "execution_count": 39,
   "metadata": {},
   "outputs": [
    {
     "data": {
      "text/plain": [
       "0        real reason youre sad youre attached people di...\n",
       "1                  biggest problem overthinking everything\n",
       "2                  worst sadness sadness youve taught hide\n",
       "3        can not make understand can not make anyone un...\n",
       "4        dont think anyone really understands tiring ac...\n",
       "                               ...                        \n",
       "16031    cardi b want trademark catchphrase okurr think...\n",
       "16032    ill bet kellyanne george conway pretty disturb...\n",
       "16033    fan always asking watch old stuff finally answ...\n",
       "16034    ray romano hilarious comedian kind soul rare n...\n",
       "16035    muellers report may finished mine next week jo...\n",
       "Name: tweets, Length: 16036, dtype: object"
      ]
     },
     "execution_count": 39,
     "metadata": {},
     "output_type": "execute_result"
    }
   ],
   "source": [
    "dataset['tweets']"
   ]
  },
  {
   "cell_type": "code",
   "execution_count": 41,
   "metadata": {},
   "outputs": [
    {
     "data": {
      "text/html": [
       "<div>\n",
       "<style scoped>\n",
       "    .dataframe tbody tr th:only-of-type {\n",
       "        vertical-align: middle;\n",
       "    }\n",
       "\n",
       "    .dataframe tbody tr th {\n",
       "        vertical-align: top;\n",
       "    }\n",
       "\n",
       "    .dataframe thead th {\n",
       "        text-align: right;\n",
       "    }\n",
       "</style>\n",
       "<table border=\"1\" class=\"dataframe\">\n",
       "  <thead>\n",
       "    <tr style=\"text-align: right;\">\n",
       "      <th></th>\n",
       "      <th>tweets</th>\n",
       "      <th>is_depression</th>\n",
       "    </tr>\n",
       "  </thead>\n",
       "  <tbody>\n",
       "    <tr>\n",
       "      <th>0</th>\n",
       "      <td>real reason youre sad youre attached people di...</td>\n",
       "      <td>1</td>\n",
       "    </tr>\n",
       "    <tr>\n",
       "      <th>1</th>\n",
       "      <td>biggest problem overthinking everything</td>\n",
       "      <td>1</td>\n",
       "    </tr>\n",
       "    <tr>\n",
       "      <th>2</th>\n",
       "      <td>worst sadness sadness youve taught hide</td>\n",
       "      <td>1</td>\n",
       "    </tr>\n",
       "    <tr>\n",
       "      <th>3</th>\n",
       "      <td>can not make understand can not make anyone un...</td>\n",
       "      <td>1</td>\n",
       "    </tr>\n",
       "    <tr>\n",
       "      <th>4</th>\n",
       "      <td>dont think anyone really understands tiring ac...</td>\n",
       "      <td>1</td>\n",
       "    </tr>\n",
       "    <tr>\n",
       "      <th>...</th>\n",
       "      <td>...</td>\n",
       "      <td>...</td>\n",
       "    </tr>\n",
       "    <tr>\n",
       "      <th>16031</th>\n",
       "      <td>cardi b want trademark catchphrase okurr think...</td>\n",
       "      <td>0</td>\n",
       "    </tr>\n",
       "    <tr>\n",
       "      <th>16032</th>\n",
       "      <td>ill bet kellyanne george conway pretty disturb...</td>\n",
       "      <td>0</td>\n",
       "    </tr>\n",
       "    <tr>\n",
       "      <th>16033</th>\n",
       "      <td>fan always asking watch old stuff finally answ...</td>\n",
       "      <td>0</td>\n",
       "    </tr>\n",
       "    <tr>\n",
       "      <th>16034</th>\n",
       "      <td>ray romano hilarious comedian kind soul rare n...</td>\n",
       "      <td>0</td>\n",
       "    </tr>\n",
       "    <tr>\n",
       "      <th>16035</th>\n",
       "      <td>muellers report may finished mine next week jo...</td>\n",
       "      <td>0</td>\n",
       "    </tr>\n",
       "  </tbody>\n",
       "</table>\n",
       "<p>16036 rows × 2 columns</p>\n",
       "</div>"
      ],
      "text/plain": [
       "                                                  tweets  is_depression\n",
       "0      real reason youre sad youre attached people di...              1\n",
       "1                biggest problem overthinking everything              1\n",
       "2                worst sadness sadness youve taught hide              1\n",
       "3      can not make understand can not make anyone un...              1\n",
       "4      dont think anyone really understands tiring ac...              1\n",
       "...                                                  ...            ...\n",
       "16031  cardi b want trademark catchphrase okurr think...              0\n",
       "16032  ill bet kellyanne george conway pretty disturb...              0\n",
       "16033  fan always asking watch old stuff finally answ...              0\n",
       "16034  ray romano hilarious comedian kind soul rare n...              0\n",
       "16035  muellers report may finished mine next week jo...              0\n",
       "\n",
       "[16036 rows x 2 columns]"
      ]
     },
     "execution_count": 41,
     "metadata": {},
     "output_type": "execute_result"
    }
   ],
   "source": [
    "dataset"
   ]
  },
  {
   "cell_type": "code",
   "execution_count": 42,
   "metadata": {},
   "outputs": [],
   "source": [
    "dataset.to_csv('Clean Dataset.csv', index=False)"
   ]
  },
  {
   "cell_type": "code",
   "execution_count": null,
   "metadata": {},
   "outputs": [],
   "source": []
  }
 ],
 "metadata": {
  "interpreter": {
   "hash": "aac83e0df045a5644394f612f78eaed7573982ca48e0b3128cfd299ff9b1b2f2"
  },
  "kernelspec": {
   "display_name": "Python 3.9.12 ('base')",
   "language": "python",
   "name": "python3"
  },
  "language_info": {
   "codemirror_mode": {
    "name": "ipython",
    "version": 3
   },
   "file_extension": ".py",
   "mimetype": "text/x-python",
   "name": "python",
   "nbconvert_exporter": "python",
   "pygments_lexer": "ipython3",
   "version": "3.9.12"
  },
  "orig_nbformat": 4
 },
 "nbformat": 4,
 "nbformat_minor": 2
}
